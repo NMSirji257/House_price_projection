{
 "cells": [
  {
   "cell_type": "code",
   "execution_count": 4,
   "id": "processed-nepal",
   "metadata": {},
   "outputs": [],
   "source": [
    "pun=\"the first time i got certificate was \\'the time of 2016\\'.\""
   ]
  },
  {
   "cell_type": "code",
   "execution_count": 5,
   "id": "guided-relaxation",
   "metadata": {},
   "outputs": [
    {
     "data": {
      "text/plain": [
       "\"the first time i got certificate was 'the time of 2016'.\""
      ]
     },
     "execution_count": 5,
     "metadata": {},
     "output_type": "execute_result"
    }
   ],
   "source": [
    "pun"
   ]
  },
  {
   "cell_type": "code",
   "execution_count": 6,
   "id": "damaged-announcement",
   "metadata": {},
   "outputs": [],
   "source": [
    "the_music_pun=\"\"\"\n",
    "I was vry brilliant guy.\n",
    "once i found some lolu polu log.\n",
    "\n",
    "And now things are not as like they were in past.\n",
    "LOL\n",
    "\"\"\""
   ]
  },
  {
   "cell_type": "code",
   "execution_count": 8,
   "id": "senior-skill",
   "metadata": {},
   "outputs": [
    {
     "name": "stdout",
     "output_type": "stream",
     "text": [
      "\n",
      "I was vry brilliant guy.\n",
      "once i found some lolu polu log.\n",
      "\n",
      "And now things are not as like they were in past.\n",
      "LOL\n",
      "\n"
     ]
    }
   ],
   "source": [
    "print(the_music_pun)\n"
   ]
  },
  {
   "cell_type": "code",
   "execution_count": 10,
   "id": "racial-match",
   "metadata": {},
   "outputs": [
    {
     "data": {
      "text/plain": [
       "114"
      ]
     },
     "execution_count": 10,
     "metadata": {},
     "output_type": "execute_result"
    }
   ],
   "source": [
    "len(the_music_pun)"
   ]
  },
  {
   "cell_type": "code",
   "execution_count": 11,
   "id": "essential-running",
   "metadata": {},
   "outputs": [],
   "source": [
    "today='Saturday'"
   ]
  },
  {
   "cell_type": "code",
   "execution_count": 12,
   "id": "joint-offer",
   "metadata": {},
   "outputs": [
    {
     "data": {
      "text/plain": [
       "'Saturda'"
      ]
     },
     "execution_count": 12,
     "metadata": {},
     "output_type": "execute_result"
    }
   ],
   "source": [
    "today[:7]"
   ]
  },
  {
   "cell_type": "code",
   "execution_count": 13,
   "id": "completed-philosophy",
   "metadata": {},
   "outputs": [
    {
     "data": {
      "text/plain": [
       "'Saturday'"
      ]
     },
     "execution_count": 13,
     "metadata": {},
     "output_type": "execute_result"
    }
   ],
   "source": [
    "today[:len(today)]"
   ]
  },
  {
   "cell_type": "code",
   "execution_count": 15,
   "id": "neural-feedback",
   "metadata": {},
   "outputs": [
    {
     "data": {
      "text/plain": [
       "'day'"
      ]
     },
     "execution_count": 15,
     "metadata": {},
     "output_type": "execute_result"
    }
   ],
   "source": [
    "today[len(today)-3:]"
   ]
  },
  {
   "cell_type": "code",
   "execution_count": null,
   "id": "documented-registrar",
   "metadata": {},
   "outputs": [],
   "source": []
  }
 ],
 "metadata": {
  "kernelspec": {
   "display_name": "Python 3",
   "language": "python",
   "name": "python3"
  },
  "language_info": {
   "codemirror_mode": {
    "name": "ipython",
    "version": 3
   },
   "file_extension": ".py",
   "mimetype": "text/x-python",
   "name": "python",
   "nbconvert_exporter": "python",
   "pygments_lexer": "ipython3",
   "version": "3.9.0"
  }
 },
 "nbformat": 4,
 "nbformat_minor": 5
}
